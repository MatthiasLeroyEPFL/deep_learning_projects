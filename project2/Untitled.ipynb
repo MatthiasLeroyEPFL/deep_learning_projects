{
 "cells": [
  {
   "cell_type": "code",
   "execution_count": null,
   "metadata": {},
   "outputs": [],
   "source": [
    "from torch import LongTensor, FloatTensor\n",
    "import math"
   ]
  },
  {
   "cell_type": "code",
   "execution_count": null,
   "metadata": {},
   "outputs": [],
   "source": [
    "class  Module(object):\n",
    "    def __init__(self):\n",
    "        self.module_array = []\n",
    "    def  forward(self , x):\n",
    "        raise  NotImplementedError\n",
    "    def  backward(self , *gradwrtoutput):\n",
    "        raise  NotImplementedError\n",
    "    def  param(self):\n",
    "        return  []"
   ]
  },
  {
   "cell_type": "code",
   "execution_count": null,
   "metadata": {},
   "outputs": [],
   "source": [
    "class Linear(Module):\n",
    "    def __init__(self, in_features, out_features):\n",
    "        super(Linear, self).__init__()\n",
    "        self.weight = FloatTensor(in_features, out_features)\n",
    "        self.bias = FloatTensor(out_features)\n",
    "        self.reset_parameters()\n",
    "    def reset_parameters(self):\n",
    "        std = 1 / math.sqrt(self.weight.size(1))\n",
    "        self.weight.uniform_(-std, std)\n",
    "        self.bias.uniform_(-std, std)\n",
    "    def forward(self, x):\n",
    "        return x.matmul(self.weight) + self.bias\n",
    "        \n",
    "        \n",
    "        \n",
    "        "
   ]
  },
  {
   "cell_type": "code",
   "execution_count": null,
   "metadata": {},
   "outputs": [],
   "source": [
    "class Sequential(Module):\n",
    "    def __init__(self, *args):\n",
    "        super(Sequential, self).__init__()\n",
    "        for arg in args:\n",
    "            self.module_array.append(arg)\n",
    "    \n",
    "    def forward(self, x):\n",
    "        for module in self.module_array:\n",
    "            x = module.forward(x)\n",
    "        return x"
   ]
  },
  {
   "cell_type": "code",
   "execution_count": null,
   "metadata": {},
   "outputs": [],
   "source": [
    "class ReLU(Module):\n",
    "    def __init__(self):\n",
    "        super(ReLU, self).__init__()\n",
    "    def forward(self, x):\n",
    "        x[x<=0] = 0\n",
    "        return x\n",
    "\n",
    "class Tanh(Module):\n",
    "    def __init__(self):\n",
    "        super(Tanh, self).__init__()\n",
    "    def forward(self, x):\n",
    "        return torch.tanh(x)"
   ]
  },
  {
   "cell_type": "code",
   "execution_count": null,
   "metadata": {},
   "outputs": [],
   "source": [
    "model = Sequential(Linear(2,25),ReLU(), Linear(25,25), ReLU(), Linear(25,25), ReLU(), Linear(25,25), ReLU(), Linear(25,2))\n",
    "\n",
    "input_ = torch.randn(2)\n",
    "print(input_)\n",
    "model.forward(input_)"
   ]
  },
  {
   "cell_type": "code",
   "execution_count": null,
   "metadata": {},
   "outputs": [],
   "source": [
    "def test(x):\n",
    "    x.append(4)\n",
    "\n",
    "a =[1,2,3]\n",
    "test(a)\n",
    "a"
   ]
  }
 ],
 "metadata": {
  "kernelspec": {
   "display_name": "Python 3",
   "language": "python",
   "name": "python3"
  },
  "language_info": {
   "codemirror_mode": {
    "name": "ipython",
    "version": 3
   },
   "file_extension": ".py",
   "mimetype": "text/x-python",
   "name": "python",
   "nbconvert_exporter": "python",
   "pygments_lexer": "ipython3",
   "version": "3.6.4"
  }
 },
 "nbformat": 4,
 "nbformat_minor": 2
}
