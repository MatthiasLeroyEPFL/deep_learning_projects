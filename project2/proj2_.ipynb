{
 "cells": [
  {
   "cell_type": "code",
   "execution_count": null,
   "metadata": {},
   "outputs": [],
   "source": [
    "from torch import LongTensor, FloatTensor\n",
    "import torch\n",
    "import math"
   ]
  },
  {
   "cell_type": "code",
   "execution_count": null,
   "metadata": {},
   "outputs": [],
   "source": [
    "class Module(object):\n",
    "                \n",
    "    \n",
    "    def forward(self , *x):\n",
    "        raise NotImplementedError\n",
    "    \n",
    "    def backward(self , *gradwrtoutput):\n",
    "        raise NotImplementedError\n",
    "    \n",
    "    def param(self):\n",
    "        return []\n",
    "    \n",
    "    def step(self, eta):\n",
    "        pass\n",
    "    \n",
    "    def grad_zero(self):\n",
    "        pass"
   ]
  },
  {
   "cell_type": "code",
   "execution_count": null,
   "metadata": {},
   "outputs": [],
   "source": [
    "class Linear(Module):\n",
    "    def __init__(self, in_features, out_features):\n",
    "        super(Linear, self).__init__()\n",
    "        self.weight = FloatTensor(in_features, out_features)\n",
    "        self.bias = FloatTensor(out_features)\n",
    "        self.reset_parameters()\n",
    "        self.bias_grad = FloatTensor(self.bias.size()).zero_()\n",
    "        self.weight_grad = FloatTensor(self.weight.size()).zero_()\n",
    "        self.previous_x = None\n",
    "        \n",
    "        \n",
    "    def reset_parameters(self):\n",
    "        std = 1 / math.sqrt(self.weight.size(1))\n",
    "        self.weight.uniform_(-std, std)\n",
    "        self.bias.uniform_(-std, std)\n",
    "    \n",
    "    def forward(self, x):\n",
    "        self.previous_x = x\n",
    "        return x.matmul(self.weight) + self.bias\n",
    "    \n",
    "    def backward(self, *gradwrtoutput):\n",
    "        #print('grad_weight_size: ', self.weight_grad.size())\n",
    "        #print('grad_bias_size: ', self.bias_grad.size())\n",
    "        #print('receive_grad: ', gradwrtoutput[0].size())\n",
    "        #print('previous_x: ', self.previous_x.size())\n",
    "        self.bias_grad.add_(gradwrtoutput[0].sum(0))\n",
    "        self.weight_grad.add_(self.previous_x.t().matmul(gradwrtoutput[0]))\n",
    "        return gradwrtoutput[0].matmul(self.weight.t())\n",
    "    \n",
    "    \n",
    "    def step(self, eta):\n",
    "        self.weight = self.weight - eta * self.weight_grad\n",
    "        self.bias = self.bias - eta * self.bias_grad\n",
    "    \n",
    "    def grad_zero(self):\n",
    "        self.bias_grad.zero_()\n",
    "        self.weight_grad.zero_()\n",
    "    \n",
    "    def param(self):\n",
    "        return [(self.weight, self.weight_grad), (self.bias, self.bias_grad)]\n",
    "        "
   ]
  },
  {
   "cell_type": "code",
   "execution_count": null,
   "metadata": {},
   "outputs": [],
   "source": [
    "class Sequential(Module):\n",
    "    def __init__(self, *args):\n",
    "        self.module_array = []\n",
    "        super(Sequential, self).__init__()\n",
    "        for arg in args:\n",
    "            self.module_array.append(arg)\n",
    "    \n",
    "    def forward(self, *x):\n",
    "        input_ = x[0]\n",
    "        for module in self.module_array:\n",
    "            \n",
    "            input_ = module.forward(input_)\n",
    "        return input_\n",
    "    \n",
    "    def backward(self, *gradwrtoutput):\n",
    "        input_ = gradwrtoutput[0]\n",
    "        for module in self.module_array[::-1]:\n",
    "            input_ = module.backward(input_)\n",
    "            \n",
    "        return input_\n",
    "    \n",
    "    def param(self):\n",
    "        parameters = []\n",
    "        for module in self.module_array:\n",
    "            parameters.extend(module.param())\n",
    "        return parameters\n",
    "    \n",
    "    def step(self, eta):\n",
    "        for module in self.module_array:\n",
    "            module.step(eta)\n",
    "    \n",
    "    def grad_zero(self):\n",
    "        for module in self.module_array:\n",
    "            module.grad_zero()\n",
    "        "
   ]
  },
  {
   "cell_type": "code",
   "execution_count": null,
   "metadata": {},
   "outputs": [],
   "source": [
    "class ReLU(Module):\n",
    "    def __init__(self):\n",
    "        super(ReLU, self).__init__()\n",
    "        self.temp = None\n",
    "    \n",
    "    def forward(self, x):\n",
    "        x[x<=0] = 0\n",
    "        self.temp = x\n",
    "        return x\n",
    "    \n",
    "    def backward(self, *gradwrtoutput):\n",
    "        return self.dRelu(self.temp) * gradwrtoutput[0]\n",
    "    \n",
    "    def dRelu(self, x):\n",
    "        x[x>0] = 1\n",
    "        x[x<0] = 0\n",
    "        return x\n",
    "        \n",
    "\n",
    "class Tanh(Module):\n",
    "    \n",
    "    def __init__(self):\n",
    "        super(Tanh, self).__init__()\n",
    "        self.temp = None\n",
    "    \n",
    "    def forward(self, x):\n",
    "        self.temp = x\n",
    "        return torch.tanh(x)\n",
    "    \n",
    "    def backward(self, *gradwrtoutput):\n",
    "        return self.dTanh(self.temp) * gradwrtoutput[0]\n",
    "        \n",
    "    def dTanh(self, x):\n",
    "        return 4 * (x.exp() + x.mul(-1).exp()).pow(-2)\n",
    "        \n",
    "    \n",
    "class MSELoss(Module):\n",
    "    \n",
    "    def __init__(self):\n",
    "        super(MSELoss, self).__init__()\n",
    "        \n",
    "    def forward(self, *x):\n",
    "        return (x[0] - x[1]).pow(2).sum()\n",
    "    \n",
    "    def backward(self, *gradwrtoutput):\n",
    "        return 2 * (gradwrtoutput[1] - gradwrtoutput[0])"
   ]
  },
  {
   "cell_type": "code",
   "execution_count": null,
   "metadata": {},
   "outputs": [],
   "source": [
    "\n",
    "def create_target(target):\n",
    "    first_dim, second_dim = [], []\n",
    "    for v in target:\n",
    "        if v == 1:\n",
    "            first_dim.append(-1)\n",
    "            second_dim.append(1)\n",
    "        else:\n",
    "            first_dim.append(1)\n",
    "            second_dim.append(-1)\n",
    "    return LongTensor([first_dim, second_dim]).t()\n",
    "\n",
    "\n",
    "        "
   ]
  },
  {
   "cell_type": "code",
   "execution_count": null,
   "metadata": {},
   "outputs": [],
   "source": [
    "def generate_disc_set(nb):\n",
    "    input_ = FloatTensor(nb, 2).uniform_(0, 1)\n",
    "    target =  input_.pow(2).sum(1).sub(1 / (2*math.pi)).sign().add(1).div(2).long()\n",
    "    return input_, target"
   ]
  },
  {
   "cell_type": "code",
   "execution_count": null,
   "metadata": {},
   "outputs": [],
   "source": [
    "def generate(nb):\n",
    "    input_ = FloatTensor(nb, 2).uniform_(-1,1)\n",
    "    target = input_[:,0] < 0\n",
    "    return input_, target"
   ]
  },
  {
   "cell_type": "code",
   "execution_count": null,
   "metadata": {},
   "outputs": [],
   "source": [
    "train_input, train_target = generate(1000)\n",
    "test_input, test_target = generate(1000)\n",
    "train_target.sum()"
   ]
  },
  {
   "cell_type": "code",
   "execution_count": null,
   "metadata": {},
   "outputs": [],
   "source": [
    "def train_model(model, train_input, train_target, mini_batch_size=10, eta=1e-1, nb_epochs=2000):\n",
    "    mse_loss = MSELoss()\n",
    "\n",
    "    for e in range(0, nb_epochs):\n",
    "        sum_loss = 0\n",
    "        for b in range(0, train_input.size(0), mini_batch_size):\n",
    "            output = model.forward(train_input.narrow(0, b, mini_batch_size))\n",
    "            sum_loss +=mse_loss.forward(output, train_target.narrow(0, b, mini_batch_size))\n",
    "            grad_loss = mse_loss.backward(output, train_target.narrow(0, b, mini_batch_size))\n",
    "            model.grad_zero()\n",
    "            model.backward(grad_loss)\n",
    "            model.step(eta)\n",
    "        print(sum_loss)"
   ]
  },
  {
   "cell_type": "code",
   "execution_count": null,
   "metadata": {},
   "outputs": [],
   "source": [
    "def compute_nb_errors(model, data_input, data_target, mini_batch_size=10):\n",
    "\n",
    "    nb_data_errors = 0\n",
    "\n",
    "    for b in range(0, data_input.size(0), mini_batch_size):\n",
    "        output = model.forward(data_input.narrow(0, b, mini_batch_size))\n",
    "        _, predicted_classes = output.max(1)\n",
    "        print(predicted_classes.sum() == 10)\n",
    "        for k in range(0, mini_batch_size):\n",
    "            if data_target[b + k] != predicted_classes[k]:\n",
    "                nb_data_errors = nb_data_errors + 1\n",
    "\n",
    "    return nb_data_errors"
   ]
  },
  {
   "cell_type": "code",
   "execution_count": null,
   "metadata": {},
   "outputs": [],
   "source": [
    "model = Sequential(Linear(2,25),Tanh(), Linear(25,25), Tanh(), Linear(25,25), Tanh(), Linear(25,2), Tanh())\n",
    "print(create_target(train_target).size())\n",
    "train_model(model, train_input, create_target(train_target).float())\n",
    "compute_nb_errors(model, test_input, test_target)"
   ]
  },
  {
   "cell_type": "code",
   "execution_count": null,
   "metadata": {},
   "outputs": [],
   "source": [
    "train_target.sum()"
   ]
  }
 ],
 "metadata": {
  "kernelspec": {
   "display_name": "Python 3",
   "language": "python",
   "name": "python3"
  },
  "language_info": {
   "codemirror_mode": {
    "name": "ipython",
    "version": 3
   },
   "file_extension": ".py",
   "mimetype": "text/x-python",
   "name": "python",
   "nbconvert_exporter": "python",
   "pygments_lexer": "ipython3",
   "version": "3.6.4"
  }
 },
 "nbformat": 4,
 "nbformat_minor": 2
}
