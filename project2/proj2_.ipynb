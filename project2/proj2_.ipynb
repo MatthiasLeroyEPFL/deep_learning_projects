{
 "cells": [
  {
   "cell_type": "code",
   "execution_count": null,
   "metadata": {},
   "outputs": [],
   "source": [
    "from torch import LongTensor, FloatTensor\n",
    "import torch\n",
    "import math"
   ]
  },
  {
   "cell_type": "code",
   "execution_count": null,
   "metadata": {},
   "outputs": [],
   "source": [
    "class Module(object):\n",
    "                \n",
    "    \n",
    "    def forward(self , *x):\n",
    "        raise NotImplementedError\n",
    "    \n",
    "    def backward(self , *gradwrtoutput):\n",
    "        raise NotImplementedError\n",
    "    \n",
    "    def param(self):\n",
    "        return []"
   ]
  },
  {
   "cell_type": "code",
   "execution_count": null,
   "metadata": {},
   "outputs": [],
   "source": [
    "class Linear(Module):\n",
    "    def __init__(self, in_features, out_features):\n",
    "        super(Linear, self).__init__()\n",
    "        self.weight = FloatTensor(out_features, in_features)\n",
    "        self.bias = FloatTensor(out_features)\n",
    "        self.reset_parameters()\n",
    "        self.bias_grad = FloatTensor(self.bias.size()).zero_()\n",
    "        self.weight_grad = FloatTensor(self.weight.size()).zero_()\n",
    "        self.previous_x = None\n",
    "        \n",
    "        \n",
    "    def reset_parameters(self):\n",
    "        std = 1 / math.sqrt(self.weight.size(1))\n",
    "        self.weight.uniform_(-std, std)\n",
    "        self.bias.uniform_(-std, std)\n",
    "    \n",
    "    def forward(self, x):\n",
    "        self.previous_x = x\n",
    "        return x.matmul(self.weight.t()) + self.bias\n",
    "    \n",
    "    def backward(self, *gradwrtoutput):\n",
    "        print(gradwrtoutput[0].size(), self.bias_grad.size(), self.previous_x.size())\n",
    "        self.bias_grad.add_(gradwrtoutput[0].sum(0))\n",
    "        self.weight_grad.add_(gradwrtoutput[0].matmul(self.previous_x).sum(0))\n",
    "        return gradwrtoutput[0].matmul(self.weight.t())\n",
    "        \n",
    "    def param(self):\n",
    "        return [(self.weight, self.weight_grad), (self.bias, self.bias_grad)]\n",
    "        "
   ]
  },
  {
   "cell_type": "code",
   "execution_count": null,
   "metadata": {},
   "outputs": [],
   "source": [
    "class Sequential(Module):\n",
    "    def __init__(self, *args):\n",
    "        self.module_array = []\n",
    "        super(Sequential, self).__init__()\n",
    "        for arg in args:\n",
    "            self.module_array.append(arg)\n",
    "    \n",
    "    def forward(self, *x):\n",
    "        input_ = x[0]\n",
    "        for module in self.module_array:\n",
    "            \n",
    "            input_ = module.forward(input_)\n",
    "        return input_\n",
    "    \n",
    "    def backward(self, *gradwrtoutput):\n",
    "        input_ = gradwrtoutput[0]\n",
    "        for module in self.module_array[::-1]:\n",
    "            input_ = module.backward(input_)\n",
    "            \n",
    "        return input_\n",
    "    \n",
    "    def param(self):\n",
    "        parameters = []\n",
    "        for module in self.module_array:\n",
    "            parameters.extend(module.param())\n",
    "        return parameters"
   ]
  },
  {
   "cell_type": "code",
   "execution_count": null,
   "metadata": {},
   "outputs": [],
   "source": [
    "class ReLU(Module):\n",
    "    def __init__(self):\n",
    "        super(ReLU, self).__init__()\n",
    "        self.temp = None\n",
    "    \n",
    "    def forward(self, x):\n",
    "        x[x<=0] = 0\n",
    "        self.temp = x\n",
    "        return x\n",
    "    \n",
    "    def backward(self, *gradwrtoutput):\n",
    "        return self.dRelu(self.temp) * gradwrtoutput[0]\n",
    "    \n",
    "    def dRelu(self, x):\n",
    "        x[x>0] = 1\n",
    "        x[x<0] = 0\n",
    "        return x\n",
    "        \n",
    "\n",
    "class Tanh(Module):\n",
    "    \n",
    "    def __init__(self):\n",
    "        super(Tanh, self).__init__()\n",
    "    \n",
    "    def forward(self, x):\n",
    "        return torch.tanh(x)\n",
    "    \n",
    "class MSELoss(Module):\n",
    "    \n",
    "    def __init__(self):\n",
    "        super(MSELoss, self).__init__()\n",
    "        \n",
    "    def forward(self, *x):\n",
    "        return (x[0] - x[1]).pow(2).sum()\n",
    "    \n",
    "    def backward(self, *gradwrtoutput):\n",
    "        return 2 * (gradwrtoutput[1] - gradwrtoutput[0])"
   ]
  },
  {
   "cell_type": "code",
   "execution_count": null,
   "metadata": {},
   "outputs": [],
   "source": [
    "model = Sequential(Linear(2,3),ReLU(), Linear(3,2))\n",
    "loss = MSELoss()\n",
    "\n",
    "\n",
    "input_ = torch.randn(4,2)\n",
    "target = LongTensor([0,1,0,1])\n",
    "output = model.forward(input_)\n",
    "prediction = torch.max(output,1)[1]\n",
    "prediction\n",
    "grad = loss.backward(prediction, target)\n",
    "grad\n",
    "grad = model.backward(grad.float())\n",
    "#model.parameters\n",
    "\n",
    "#print(input_, target)\n"
   ]
  },
  {
   "cell_type": "code",
   "execution_count": null,
   "metadata": {},
   "outputs": [],
   "source": [
    "model =\n",
    "for i in range(200):\n",
    "    for b in range(0, train_input.size(0), mini_batch_size):\n",
    "        output =\n",
    "        \n",
    "        "
   ]
  }
 ],
 "metadata": {
  "kernelspec": {
   "display_name": "Python 3",
   "language": "python",
   "name": "python3"
  },
  "language_info": {
   "codemirror_mode": {
    "name": "ipython",
    "version": 3
   },
   "file_extension": ".py",
   "mimetype": "text/x-python",
   "name": "python",
   "nbconvert_exporter": "python",
   "pygments_lexer": "ipython3",
   "version": "3.6.4"
  }
 },
 "nbformat": 4,
 "nbformat_minor": 2
}
