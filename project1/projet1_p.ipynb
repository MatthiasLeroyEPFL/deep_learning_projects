{
 "cells": [
  {
   "cell_type": "code",
   "execution_count": null,
   "metadata": {},
   "outputs": [],
   "source": [
    "import  dlc_bci as bci\n",
    "import torch\n",
    "from torch import optim\n",
    "from torch import Tensor\n",
    "from torch.autograd import Variable\n",
    "from torch import nn\n",
    "import numpy as np\n",
    "from torch.nn import functional as F\n",
    "from sklearn.linear_model import LogisticRegression"
   ]
  },
  {
   "cell_type": "code",
   "execution_count": null,
   "metadata": {},
   "outputs": [],
   "source": [
    "torch.manual_seed(2)"
   ]
  },
  {
   "cell_type": "code",
   "execution_count": null,
   "metadata": {},
   "outputs": [],
   "source": [
    "train_input, train_target = bci.load(root =  './data')\n",
    "print(str(type(train_input)), train_input.size())\n",
    "print(str(type(train_target)), train_target.size())\n",
    "\n",
    "test_input , test_target = bci.load(root =  './data', train = False)\n",
    "print(str(type(test_input)), test_input.size())\n",
    "print(str(type(test_target)), test_target.size())"
   ]
  },
  {
   "cell_type": "code",
   "execution_count": null,
   "metadata": {},
   "outputs": [],
   "source": [
    "# We start by normalize our input datasets\n",
    "mean, std = train_input.mean(), train_input.std()\n",
    "train_input.sub_(mean).div_(std)\n",
    "test_input.sub_(mean).div_(std)\n",
    "\n",
    "train_input, train_target = Variable(train_input), Variable(train_target)\n",
    "test_input, test_target = Variable(test_input), Variable(test_target)\n",
    "\n",
    "train_input_c = train_input.view(train_input.size(0),1,28,-1)\n",
    "test_input_c = test_input.view(test_input.size(0),1,28,-1)\n",
    "\n",
    "train_input_f = train_input.view(train_input.size(0),-1)\n",
    "test_input_f = test_input.view(test_input.size(0),-1)"
   ]
  },
  {
   "cell_type": "code",
   "execution_count": null,
   "metadata": {},
   "outputs": [],
   "source": [
    "def train_model(model, train_input, train_target, mini_batch_size, nb_epochs, eta, sgd=True):\n",
    "    \"\"\"\n",
    "    train our model and print the loss for each chosen epoch\n",
    "    according to the parameters we pass in the methods arguments\n",
    "    \"\"\"\n",
    "    # We put the model in train mode as we use dropout in some models\n",
    "    model.train()   \n",
    "    # We use the cross entropy loss as it give us a better score than MSE\n",
    "    criterion = nn.CrossEntropyLoss()\n",
    "    # change the optimizer as we have tried 2 differents\n",
    "    if (sgd) :\n",
    "        optimizer = optim.SGD(model.parameters(), lr = eta)\n",
    "    else :\n",
    "        optimizer = optim.Adam(model.parameters(), lr=eta)\n",
    "    # make the forward, backward and optimizer step in order to train our model    \n",
    "    for e in range(0, nb_epochs):\n",
    "        sum_loss = 0\n",
    "        for b in range(0, train_input.size(0), mini_batch_size):\n",
    "            output = model(train_input.narrow(0, b, mini_batch_size))\n",
    "            loss = criterion(output, train_target.narrow(0, b, mini_batch_size))\n",
    "            model.zero_grad()\n",
    "            loss.backward()\n",
    "            optimizer.step()\n",
    "            sum_loss += loss.data[0]\n",
    "        print(\"epoch {} : {}\".format(e,sum_loss))\n",
    "\n",
    "def compute_nb_errors(model, data_input, data_target, mini_batch_size):\n",
    "    \"\"\"\n",
    "    compute our number of errors for our testing dataset with the pretrai model\n",
    "    \"\"\"\n",
    "    # We put the model in evaluation mode in order to avoid the dropout during the test\n",
    "    model.eval()\n",
    "    nb_data_errors = 0\n",
    "\n",
    "    for b in range(0, data_input.size(0), mini_batch_size):\n",
    "        output = model(data_input.narrow(0, b, mini_batch_size))\n",
    "        _, predicted_classes = torch.max(output.data, 1)\n",
    "        for k in range(0, mini_batch_size):\n",
    "            if data_target.data[b + k] != predicted_classes[k]:\n",
    "                nb_data_errors = nb_data_errors + 1\n",
    "\n",
    "    return nb_data_errors\n",
    "\n",
    "def accuracy(model, train_input, train_target, test_input, test_target, mini_batch_size):\n",
    "    \"\"\"\n",
    "    compute accuracy of training and testing sets.\n",
    "    \"\"\"\n",
    "    acc_train = 100 - compute_nb_errors(model1, train_input, train_target, 4) / train_input.size(0) * 100\n",
    "    acc_test = 100 - compute_nb_errors(model1, test_input, test_target, 4) / test_input.size(0) * 100\n",
    "    print(\"accuracy of the training set : {} %\".format(acc_train))\n",
    "    print(\"accuracy of the testing set : {} %\".format(acc_test))\n",
    "        "
   ]
  },
  {
   "cell_type": "code",
   "execution_count": null,
   "metadata": {},
   "outputs": [],
   "source": [
    "def fully_connected():\n",
    "    return nn.Sequential(\n",
    "        nn.Linear(1400, 2000),\n",
    "        nn.ReLU(),\n",
    "        nn.Linear(2000, 2500),\n",
    "        nn.ReLU(),\n",
    "        nn.Linear(2500, 1)        \n",
    "    )"
   ]
  },
  {
   "cell_type": "code",
   "execution_count": null,
   "metadata": {},
   "outputs": [],
   "source": [
    "class Net(nn.Module):\n",
    "    def __init__(self, nb_hidden):\n",
    "        super(Net, self).__init__()\n",
    "        self.conv1 = nn.Conv2d(1, 32, kernel_size=5)\n",
    "        self.conv2 = nn.Conv2d(32, 64, kernel_size=5)\n",
    "        self.fc1 = nn.Linear(64*2*5, nb_hidden)\n",
    "        self.fc2 = nn.Linear(nb_hidden, 2)\n",
    "\n",
    "    def forward(self, x):\n",
    "        x = F.tanh(F.max_pool2d(self.conv1(x), kernel_size=3, stride=3))\n",
    "        x = F.tanh(F.max_pool2d(self.conv2(x), kernel_size=2, stride=2))\n",
    "        #print(x.size())\n",
    "        \n",
    "        x = F.tanh(self.fc1(x.view(-1, 64*2*5)))\n",
    "        x = self.fc2(x)\n",
    "        return x"
   ]
  },
  {
   "cell_type": "code",
   "execution_count": null,
   "metadata": {
    "scrolled": true
   },
   "outputs": [],
   "source": [
    "model1 = Net(250)\n",
    "train_model(model1, train_input, train_target, mini_batch_size=4, nb_epochs=100, eta=1e-2)"
   ]
  },
  {
   "cell_type": "code",
   "execution_count": null,
   "metadata": {},
   "outputs": [],
   "source": [
    "print(100 - compute_nb_errors(model1, train_input, train_target, 4) / train_input.size(0) * 100)\n",
    "print(100 - compute_nb_errors(model1, test_input, test_target, 4) / test_input.size(0) * 100)"
   ]
  },
  {
   "cell_type": "code",
   "execution_count": null,
   "metadata": {},
   "outputs": [],
   "source": [
    "class Net2(nn.Module):\n",
    "    def __init__(self, nb_hidden=150):\n",
    "        super(Net2, self).__init__()\n",
    "        self.conv1 = nn.Sequential(\n",
    "            nn.Conv2d(1, 28, kernel_size=(28,1), stride=1, padding=0),\n",
    "            nn.Dropout2d(p=8/28),\n",
    "            nn.BatchNorm2d(28),\n",
    "            #nn.MaxPool2d(kernel_size=(1,2), stride=2),\n",
    "            nn.Tanh())\n",
    "        \n",
    "        self.conv2 = nn.Sequential(\n",
    "            nn.Conv2d(7, 14, kernel_size=(1,4), stride=1, padding=0),\n",
    "            nn.Dropout(p=25*2/(8*25)),\n",
    "            nn.BatchNorm2d(14),\n",
    "            nn.MaxPool2d(kernel_size=3, stride=3),\n",
    "            nn.Tanh())\n",
    "        \n",
    "        self.fc1 = nn.Sequential(\n",
    "            nn.Linear(14*2*7, nb_hidden),\n",
    "            nn.ReLU())\n",
    "        \n",
    "        self.fc2 = nn.Linear(nb_hidden, 2)\n",
    "        \n",
    "        \n",
    "    def forward(self, x):\n",
    "        #print(x.size())\n",
    "        out = self.conv1(x)\n",
    "        #print(out.size())\n",
    "        out = self.conv2(out.view(-1,7,8,25))\n",
    "        #print(out.size())\n",
    "        out = self.fc1(out.view(-1, 14*2*7))\n",
    "        #print(out.size())\n",
    "        out = self.fc2(out)\n",
    "        #print(out.size())\n",
    "        return out"
   ]
  },
  {
   "cell_type": "code",
   "execution_count": null,
   "metadata": {
    "scrolled": true
   },
   "outputs": [],
   "source": [
    "model2 = Net2(14*7)\n",
    "train_model(model2, train_input, train_target, mini_batch_size=4, nb_epochs=600, eta=1e-2)"
   ]
  },
  {
   "cell_type": "code",
   "execution_count": null,
   "metadata": {},
   "outputs": [],
   "source": [
    "print(100 - compute_nb_errors(model2, train_input, train_target, 4) / train_input.size(0) * 100)\n",
    "print(100 - compute_nb_errors(model2, test_input, test_target, 4) / test_input.size(0) * 100)"
   ]
  },
  {
   "cell_type": "code",
   "execution_count": null,
   "metadata": {},
   "outputs": [],
   "source": [
    "class Net3(nn.Module):\n",
    "    def __init__(self, nb_hidden=150):\n",
    "        super(Net3, self).__init__()\n",
    "        self.conv1 = nn.Sequential(\n",
    "            nn.Conv2d(1, 16, kernel_size=(28,1)),\n",
    "            nn.Dropout2d(p=6/16),\n",
    "            nn.BatchNorm2d(16),\n",
    "            nn.MaxPool2d(kernel_size=(1,2), stride=2),\n",
    "            nn.Tanh())\n",
    "        \n",
    "        self.conv2 = nn.Sequential(\n",
    "            nn.Conv2d(16, 32, kernel_size=(1,5)),\n",
    "            nn.Dropout2d(p=12/32),\n",
    "            nn.BatchNorm2d(32),\n",
    "            nn.MaxPool2d(kernel_size=(1,2), stride=2),\n",
    "            nn.Tanh())\n",
    "        \n",
    "        self.conv3 = nn.Sequential(\n",
    "            nn.Conv2d(2, 8, kernel_size=3),\n",
    "            nn.Dropout(p=3/8),\n",
    "            nn.BatchNorm2d(8),\n",
    "            nn.MaxPool2d(kernel_size=2, stride=2),\n",
    "            nn.Tanh())\n",
    "        \n",
    "        self.fc1 = nn.Sequential(\n",
    "            nn.Linear(8*7*4, nb_hidden),\n",
    "            nn.ReLU())\n",
    "        \n",
    "        self.fc2 = nn.Linear(nb_hidden, 2)\n",
    "        \n",
    "        \n",
    "    def forward(self, x):\n",
    "        #print(x.size())\n",
    "        out = self.conv1(x)\n",
    "        #print(out.size())\n",
    "        out = self.conv2(out)\n",
    "        #print(out.size())\n",
    "        out = self.conv3(out.view(-1,2,16,10))\n",
    "        #print(out.size())\n",
    "        out = self.fc1(out.view(-1, 8*7*4))\n",
    "        #print(out.size())\n",
    "        out = self.fc2(out)\n",
    "        #print(out.size())\n",
    "        return out"
   ]
  },
  {
   "cell_type": "code",
   "execution_count": null,
   "metadata": {
    "scrolled": true
   },
   "outputs": [],
   "source": [
    "model3 = Net3(8*7*2)\n",
    "train_model(model3, train_input, train_target, mini_batch_size=4, nb_epochs=400, eta=1e-2)"
   ]
  },
  {
   "cell_type": "code",
   "execution_count": null,
   "metadata": {},
   "outputs": [],
   "source": [
    "print(100 - compute_nb_errors(model3, train_input, train_target, 4) / train_input.size(0) * 100)\n",
    "print(100 - compute_nb_errors(model3, test_input, test_target, 4) / test_input.size(0) * 100)"
   ]
  },
  {
   "cell_type": "code",
   "execution_count": null,
   "metadata": {
    "scrolled": true
   },
   "outputs": [],
   "source": [
    "model4 = Net3(8*7*2)\n",
    "train_model(model4, train_input, train_target, mini_batch_size=4, nb_epochs=400, eta=1e-2)"
   ]
  },
  {
   "cell_type": "code",
   "execution_count": null,
   "metadata": {},
   "outputs": [],
   "source": [
    "print(100 - compute_nb_errors(model4, train_input, train_target, 4) / train_input.size(0) * 100)\n",
    "print(100 - compute_nb_errors(model4, test_input, test_target, 4) / test_input.size(0) * 100)"
   ]
  },
  {
   "cell_type": "code",
   "execution_count": null,
   "metadata": {},
   "outputs": [],
   "source": [
    "class Net4(nn.Module):\n",
    "    def __init__(self, nb_hidden=150):\n",
    "        super(Net4, self).__init__()\n",
    "        self.conv1 = nn.Sequential(\n",
    "            nn.Conv2d(1, 16, kernel_size=(28,1)),\n",
    "            nn.Dropout2d(p=8/16),\n",
    "            nn.BatchNorm2d(16),\n",
    "            nn.MaxPool2d(kernel_size=(1,2), stride=2),\n",
    "            nn.Tanh())\n",
    "        \n",
    "        self.conv2 = nn.Sequential(\n",
    "            nn.Conv2d(16, 32, kernel_size=(1,5)),\n",
    "            nn.Dropout2d(p=16/32),\n",
    "            nn.BatchNorm2d(32),\n",
    "            nn.MaxPool2d(kernel_size=(1,2), stride=2),\n",
    "            nn.Tanh())\n",
    "        \n",
    "        self.conv3 = nn.Sequential(\n",
    "            nn.Conv2d(2, 8, kernel_size=3),\n",
    "            nn.Dropout(p=5/8),\n",
    "            nn.BatchNorm2d(8),\n",
    "            nn.MaxPool2d(kernel_size=2, stride=2),\n",
    "            nn.Tanh())\n",
    "        \n",
    "        self.fc1 = nn.Sequential(\n",
    "            nn.Linear(8*7*4, nb_hidden),\n",
    "            nn.ReLU())\n",
    "        \n",
    "        self.fc2 = nn.Linear(nb_hidden, 2)\n",
    "        \n",
    "        \n",
    "    def forward(self, x):\n",
    "        #print(x.size())\n",
    "        out = self.conv1(x)\n",
    "        #print(out.size())\n",
    "        out = self.conv2(out)\n",
    "        #print(out.size())\n",
    "        out = self.conv3(out.view(-1,2,16,10))\n",
    "        #print(out.size())\n",
    "        out = self.fc1(out.view(-1, 8*7*4))\n",
    "        #print(out.size())\n",
    "        out = self.fc2(out)\n",
    "        #print(out.size())\n",
    "        return out"
   ]
  },
  {
   "cell_type": "code",
   "execution_count": null,
   "metadata": {
    "scrolled": true
   },
   "outputs": [],
   "source": [
    "model5 = Net4(8*7*2)\n",
    "train_model(model5, train_input, train_target, mini_batch_size=4, nb_epochs=1000, eta=1e-3)"
   ]
  },
  {
   "cell_type": "code",
   "execution_count": null,
   "metadata": {},
   "outputs": [],
   "source": [
    "print(100 - compute_nb_errors(model5, train_input, train_target, 4) / train_input.size(0) * 100)\n",
    "print(100 - compute_nb_errors(model5, test_input, test_target, 4) / test_input.size(0) * 100)"
   ]
  },
  {
   "cell_type": "code",
   "execution_count": null,
   "metadata": {},
   "outputs": [],
   "source": [
    "hidden = [100,150,200,250,300,350,400,450]\n",
    "epochs = [50,100,150,200,250,300]\n",
    "\n",
    "for eta in [1e-1, 1e-2, 1e-3]:\n",
    "    for nb_hidden in hidden:\n",
    "        model = Net2(nb_hidden)\n",
    "        for nb_epochs in epochs:\n",
    "            train_model(model, train_input, train_target, nb_epochs, eta)\n",
    "            train_acc = 100 - compute_nb_errors(model, train_input, train_target, 4) / train_input.size(0) * 100\n",
    "            test_accu = 100 - compute_nb_errors(model, test_input, test_target, 4) / test_input.size(0) * 100\n",
    "            print(\"step {}, hidden {}, epoch {}, acc train {}%, acc test {}%\".format(eta,nb_hidden, nb_epochs, train_acc, test_accu))"
   ]
  }
 ],
 "metadata": {
  "kernelspec": {
   "display_name": "Python 3",
   "language": "python",
   "name": "python3"
  },
  "language_info": {
   "codemirror_mode": {
    "name": "ipython",
    "version": 3
   },
   "file_extension": ".py",
   "mimetype": "text/x-python",
   "name": "python",
   "nbconvert_exporter": "python",
   "pygments_lexer": "ipython3",
   "version": "3.6.4"
  }
 },
 "nbformat": 4,
 "nbformat_minor": 2
}
