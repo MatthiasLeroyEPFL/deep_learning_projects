{
 "cells": [
  {
   "cell_type": "code",
   "execution_count": null,
   "metadata": {},
   "outputs": [],
   "source": [
    "import  dlc_bci as bci\n",
    "import torch\n",
    "from torch import optim\n",
    "from torch import Tensor\n",
    "from torch.autograd import Variable\n",
    "from torch import nn\n",
    "import numpy as np\n",
    "import random\n",
    "from torch.nn import functional as F\n",
    "from sklearn.linear_model import LogisticRegression"
   ]
  },
  {
   "cell_type": "code",
   "execution_count": null,
   "metadata": {},
   "outputs": [],
   "source": [
    "m = nn.Threshold(0.1, 20)\n",
    "input_ = torch.randn(2)\n",
    "print(input_)\n",
    "m.forward(Variable(input_))\n"
   ]
  },
  {
   "cell_type": "code",
   "execution_count": null,
   "metadata": {},
   "outputs": [],
   "source": [
    "train_input, train_target = bci.load(root =  './data', one_khz=False)\n",
    "print(str(type(train_input)), train_input.size())\n",
    "print(str(type(train_target)), train_target.size())\n",
    "test_input , test_target = bci.load(root =  './data', train = False)\n",
    "print(str(type(test_input)), test_input.size())\n",
    "print(str(type(test_target)), test_target.size())"
   ]
  },
  {
   "cell_type": "code",
   "execution_count": null,
   "metadata": {},
   "outputs": [],
   "source": []
  },
  {
   "cell_type": "code",
   "execution_count": null,
   "metadata": {
    "scrolled": false
   },
   "outputs": [],
   "source": [
    "def up_sampled(data_input, data_target):\n",
    "    custom_train_input = torch.Tensor()\n",
    "    custom_train_target = torch.LongTensor()\n",
    "    perm = torch.randperm(500)\n",
    "    data_input = data_input[:,:,perm]\n",
    "    for i in range(10):\n",
    "        custom_train_input = torch.cat((custom_train_input, data_input.narrow(2,i*50,50)),0)\n",
    "    \n",
    "    for i in range(train_target.size(0)):\n",
    "        custom_train_target = torch.cat((custom_train_target, torch.LongTensor(10).fill_(data_target[i])),0)\n",
    "    print(custom_train_input.size())   \n",
    "    return custom_train_input, custom_train_target\n",
    "    \n",
    "\n"
   ]
  },
  {
   "cell_type": "code",
   "execution_count": null,
   "metadata": {},
   "outputs": [],
   "source": [
    "train_input, train_target = up_sampled(train_input, train_target)\n",
    "index = torch.LongTensor(random.sample(range(3160),316))\n",
    "train_input = torch.index_select(train_input, 0, index)\n",
    "train_target = torch.index_select(train_target, 0, index)\n",
    "train_input.size()"
   ]
  },
  {
   "cell_type": "code",
   "execution_count": null,
   "metadata": {},
   "outputs": [],
   "source": [
    "train_input = train_input.numpy().reshape(316,-1)\n",
    "train_target = train_target.numpy()\n",
    "test_input = test_input.numpy().reshape(100,-1)\n",
    "test_target = test_target.numpy()\n",
    "\n",
    "train_input.shape"
   ]
  },
  {
   "cell_type": "code",
   "execution_count": null,
   "metadata": {},
   "outputs": [],
   "source": [
    "train_input.size()"
   ]
  },
  {
   "cell_type": "code",
   "execution_count": null,
   "metadata": {},
   "outputs": [],
   "source": [
    "lr = LogisticRegression()\n",
    "lr.fit(train_input, train_target)\n",
    "\n",
    "lr.score(test_input, test_target)"
   ]
  },
  {
   "cell_type": "code",
   "execution_count": null,
   "metadata": {},
   "outputs": [],
   "source": [
    "mean, std = train_input.mean(), train_input.std()\n",
    "train_input.sub_(mean).div_(std)\n",
    "test_input.sub_(mean).div_(std)\n",
    "\n",
    "train_input = train_input.view(train_input.size(0),1,28,-1)\n",
    "test_input = test_input.view(test_input.size(0),1,28,-1)\n",
    "\n",
    "#train_input = train_input.view(train_input.size(0),-1)\n",
    "#test_input = test_input.view(test_input.size(0),-1)\n",
    "\n",
    "train_input, train_target = Variable(train_input), Variable(train_target)\n",
    "test_input, test_target = Variable(test_input), Variable(test_target)\n",
    "\n",
    "\n",
    "print(train_input.size())\n"
   ]
  },
  {
   "cell_type": "code",
   "execution_count": null,
   "metadata": {},
   "outputs": [],
   "source": [
    "class Net(nn.Module):\n",
    "    def __init__(self, nb_hidden):\n",
    "        super(Net, self).__init__()\n",
    "        self.conv1 = nn.Conv2d(1, 32, kernel_size=5)\n",
    "        self.conv2 = nn.Conv2d(32, 64, kernel_size=5)\n",
    "        self.fc1 = nn.Linear(64*2*5, nb_hidden)\n",
    "        self.fc2 = nn.Linear(nb_hidden, 2)\n",
    "\n",
    "    def forward(self, x):\n",
    "        x = F.tanh(F.max_pool2d(self.conv1(x), kernel_size=3, stride=3))\n",
    "        x = F.tanh(F.max_pool2d(self.conv2(x), kernel_size=2, stride=2))\n",
    "        #print(x.size())\n",
    "        \n",
    "        x = F.tanh(self.fc1(x.view(-1, 64*2*5)))\n",
    "        x = self.fc2(x)\n",
    "        return x"
   ]
  },
  {
   "cell_type": "code",
   "execution_count": null,
   "metadata": {},
   "outputs": [],
   "source": [
    "def train_model(model, train_input, train_target, mini_batch_size):\n",
    "    criterion = nn.CrossEntropyLoss()\n",
    "    optimizer = optim.SGD(model.parameters(), lr = 1e-1, )\n",
    "    nb_epochs = 200\n",
    "\n",
    "    for e in range(0, nb_epochs):\n",
    "        sum_loss = 0\n",
    "        for b in range(0, train_input.size(0), mini_batch_size):\n",
    "            output = model(train_input.narrow(0, b, mini_batch_size))\n",
    "            loss = criterion(output, train_target.narrow(0, b, mini_batch_size))\n",
    "            model.zero_grad()\n",
    "            loss.backward()\n",
    "            optimizer.step()\n",
    "            sum_loss += loss.data[0]\n",
    "        print(e,sum_loss)\n",
    "\n",
    "def compute_nb_errors(model, data_input, data_target, mini_batch_size):\n",
    "\n",
    "    nb_data_errors = 0\n",
    "\n",
    "    for b in range(0, data_input.size(0), mini_batch_size):\n",
    "        output = model(data_input.narrow(0, b, mini_batch_size))\n",
    "        _, predicted_classes = torch.max(output.data,1)\n",
    "        for k in range(0, mini_batch_size):\n",
    "            if data_target.data[b + k] != predicted_classes[k]:\n",
    "                nb_data_errors = nb_data_errors + 1\n",
    "\n",
    "    return nb_data_errors\n"
   ]
  },
  {
   "cell_type": "code",
   "execution_count": null,
   "metadata": {},
   "outputs": [],
   "source": [
    "def create_deep_model():\n",
    "    return nn.Sequential(\n",
    "        nn.Linear(2, 4),\n",
    "        nn.ReLU(),\n",
    "        nn.Linear(4,2)\n",
    "       \n",
    "        \n",
    "    )"
   ]
  },
  {
   "cell_type": "code",
   "execution_count": null,
   "metadata": {
    "scrolled": true
   },
   "outputs": [],
   "source": [
    "model = Net(250)\n",
    "#model = create_deep_model()\n",
    "train_model(model, train_input, train_target.float(),4)"
   ]
  },
  {
   "cell_type": "code",
   "execution_count": null,
   "metadata": {
    "scrolled": false
   },
   "outputs": [],
   "source": [
    "print(100 - compute_nb_errors(model, train_input, train_target, 4) / train_input.size(0) * 100)\n",
    "100 - compute_nb_errors(model, test_input, test_target, 4) / test_input.size(0) * 100"
   ]
  },
  {
   "cell_type": "code",
   "execution_count": null,
   "metadata": {},
   "outputs": [],
   "source": [
    "x = Variable(Tensor([1,2,2]), requires_grad=)\n",
    "l = x.norm()\n",
    "l.backward()\n",
    "x.grad"
   ]
  }
 ],
 "metadata": {
  "kernelspec": {
   "display_name": "Python 3",
   "language": "python",
   "name": "python3"
  },
  "language_info": {
   "codemirror_mode": {
    "name": "ipython",
    "version": 3
   },
   "file_extension": ".py",
   "mimetype": "text/x-python",
   "name": "python",
   "nbconvert_exporter": "python",
   "pygments_lexer": "ipython3",
   "version": "3.6.4"
  }
 },
 "nbformat": 4,
 "nbformat_minor": 2
}
